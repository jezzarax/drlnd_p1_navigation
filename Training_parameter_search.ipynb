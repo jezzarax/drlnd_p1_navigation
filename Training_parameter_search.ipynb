{
 "cells": [
  {
   "cell_type": "code",
   "execution_count": 1,
   "metadata": {},
   "outputs": [],
   "source": [
    "from trainer import run_training_sessions, prepare_ddqn_agent, prepare_dqn_agent"
   ]
  },
  {
   "cell_type": "code",
   "execution_count": 2,
   "metadata": {},
   "outputs": [
    {
     "name": "stderr",
     "output_type": "stream",
     "text": [
      "INFO:unityagents:\n",
      "'Academy' started successfully!\n",
      "Unity Academy name: Academy\n",
      "        Number of Brains: 1\n",
      "        Number of External Brains : 1\n",
      "        Lesson number : 0\n",
      "        Reset Parameters :\n",
      "\t\t\n",
      "Unity brain name: BananaBrain\n",
      "        Number of Visual Observations (per agent): 0\n",
      "        Vector Observation space type: continuous\n",
      "        Vector Observation space size (per agent): 37\n",
      "        Number of stacked Vector Observation: 1\n",
      "        Vector Action space type: discrete\n",
      "        Vector Action space size (per agent): 4\n",
      "        Vector Action descriptions: , , , \n"
     ]
    },
    {
     "name": "stdout",
     "output_type": "stream",
     "text": [
      "Episode 1000\tAverage Score: 15.77\n",
      "Episode 2000\tAverage Score: 16.82\n",
      "Episode 1000\tAverage Score: 16.16\n",
      "Episode 2000\tAverage Score: 16.55\n",
      "Episode 1000\tAverage Score: 16.54\n",
      "Episode 2000\tAverage Score: 16.68\n",
      "Episode 1000\tAverage Score: 15.98\n",
      "Episode 2000\tAverage Score: 16.69\n",
      "Episode 1000\tAverage Score: 16.74\n",
      "Episode 2000\tAverage Score: 16.96\n",
      "Episode 1000\tAverage Score: 16.82\n",
      "Episode 2000\tAverage Score: 17.28\n",
      "Episode 1000\tAverage Score: 16.58\n",
      "Episode 2000\tAverage Score: 16.22\n",
      "Episode 1000\tAverage Score: 16.69\n",
      "Episode 2000\tAverage Score: 16.51\n",
      "Episode 1000\tAverage Score: 17.00\n",
      "Episode 2000\tAverage Score: 16.39\n",
      "Episode 1000\tAverage Score: 16.21\n",
      "Episode 2000\tAverage Score: 17.02\n"
     ]
    }
   ],
   "source": [
    "BUFFER_SIZE = int(1e5)\n",
    "BATCH_SIZE = 64\n",
    "GAMMA = 0.99\n",
    "TAU = 1e-3\n",
    "LR = 5e-4\n",
    "UPDATE_EVERY = 4\n",
    "set1_results = run_training_sessions(prepare_ddqn_agent, LR, UPDATE_EVERY, BATCH_SIZE, BUFFER_SIZE, GAMMA, TAU, times=10)\n"
   ]
  },
  {
   "cell_type": "code",
   "execution_count": null,
   "metadata": {},
   "outputs": [
    {
     "name": "stderr",
     "output_type": "stream",
     "text": [
      "INFO:unityagents:\n",
      "'Academy' started successfully!\n",
      "Unity Academy name: Academy\n",
      "        Number of Brains: 1\n",
      "        Number of External Brains : 1\n",
      "        Lesson number : 0\n",
      "        Reset Parameters :\n",
      "\t\t\n",
      "Unity brain name: BananaBrain\n",
      "        Number of Visual Observations (per agent): 0\n",
      "        Vector Observation space type: continuous\n",
      "        Vector Observation space size (per agent): 37\n",
      "        Number of stacked Vector Observation: 1\n",
      "        Vector Action space type: discrete\n",
      "        Vector Action space size (per agent): 4\n",
      "        Vector Action descriptions: , , , \n"
     ]
    },
    {
     "name": "stdout",
     "output_type": "stream",
     "text": [
      "Episode 1000\tAverage Score: 15.01\n",
      "Episode 2000\tAverage Score: 15.90\n",
      "Episode 201\tAverage Score: 2.62"
     ]
    }
   ],
   "source": [
    "BUFFER_SIZE = int(1e5)\n",
    "BATCH_SIZE = 64\n",
    "GAMMA = 0.99\n",
    "TAU = 1e-3\n",
    "LR = 5e-3\n",
    "UPDATE_EVERY = 4\n",
    "set2_results = run_training_sessions(prepare_ddqn_agent, LR, UPDATE_EVERY, BATCH_SIZE, BUFFER_SIZE, GAMMA, TAU, times=10)"
   ]
  },
  {
   "cell_type": "code",
   "execution_count": null,
   "metadata": {},
   "outputs": [],
   "source": [
    "BUFFER_SIZE = int(1e5)\n",
    "BATCH_SIZE = 64\n",
    "GAMMA = 0.99\n",
    "TAU = 1e-3\n",
    "LR = 5e-2\n",
    "UPDATE_EVERY = 4\n",
    "set3_results = run_training_sessions(prepare_ddqn_agent, LR, UPDATE_EVERY, BATCH_SIZE, BUFFER_SIZE, GAMMA, TAU, times=10)"
   ]
  },
  {
   "cell_type": "code",
   "execution_count": null,
   "metadata": {},
   "outputs": [],
   "source": [
    "BUFFER_SIZE = int(1e5)\n",
    "BATCH_SIZE = 64\n",
    "GAMMA = 0.99\n",
    "TAU = 1e-3\n",
    "LR = 5e-4\n",
    "UPDATE_EVERY = 8\n",
    "set4_results = run_training_sessions(prepare_ddqn_agent, LR, UPDATE_EVERY, BATCH_SIZE, BUFFER_SIZE, GAMMA, TAU, times=10)"
   ]
  },
  {
   "cell_type": "code",
   "execution_count": null,
   "metadata": {},
   "outputs": [],
   "source": [
    "BUFFER_SIZE = int(1e5)\n",
    "BATCH_SIZE = 64\n",
    "GAMMA = 0.99\n",
    "TAU = 1e-3\n",
    "LR = 5e-4\n",
    "UPDATE_EVERY = 16\n",
    "set5_results = run_training_sessions(prepare_ddqn_agent, LR, UPDATE_EVERY, BATCH_SIZE, BUFFER_SIZE, GAMMA, TAU, times=10)"
   ]
  },
  {
   "cell_type": "code",
   "execution_count": null,
   "metadata": {},
   "outputs": [],
   "source": [
    "BUFFER_SIZE = int(1e5)\n",
    "BATCH_SIZE = 64\n",
    "GAMMA = 0.99\n",
    "TAU = 1e-2\n",
    "LR = 5e-4\n",
    "UPDATE_EVERY = 4\n",
    "set6_results = run_training_sessions(prepare_ddqn_agent, LR, UPDATE_EVERY, BATCH_SIZE, BUFFER_SIZE, GAMMA, TAU, times=10)"
   ]
  },
  {
   "cell_type": "code",
   "execution_count": null,
   "metadata": {},
   "outputs": [],
   "source": [
    "BUFFER_SIZE = int(1e5)\n",
    "BATCH_SIZE = 64\n",
    "GAMMA = 0.99\n",
    "TAU = 5e-2\n",
    "LR = 5e-4\n",
    "UPDATE_EVERY = 4\n",
    "set7_results = run_training_sessions(prepare_ddqn_agent, LR, UPDATE_EVERY, BATCH_SIZE, BUFFER_SIZE, GAMMA, TAU, times=10)"
   ]
  },
  {
   "cell_type": "code",
   "execution_count": 14,
   "metadata": {},
   "outputs": [],
   "source": [
    "import json"
   ]
  },
  {
   "cell_type": "code",
   "execution_count": 16,
   "metadata": {},
   "outputs": [],
   "source": [
    "with open('set1_results.json', 'w') as outfile:\n",
    "    json.dump(set1_results, outfile)\n",
    "with open('set2_results.json', 'w') as outfile:\n",
    "    json.dump(set2_results, outfile)\n",
    "with open('set3_results.json', 'w') as outfile:\n",
    "    json.dump(set3_results, outfile)\n",
    "with open('set4_results.json', 'w') as outfile:\n",
    "    json.dump(set4_results, outfile)\n",
    "with open('set5_results.json', 'w') as outfile:\n",
    "    json.dump(set5_results, outfile)\n",
    "with open('set6_results.json', 'w') as outfile:\n",
    "    json.dump(set6_results, outfile)\n",
    "with open('set7_results.json', 'w') as outfile:\n",
    "    json.dump(set7_results, outfile)\n"
   ]
  },
  {
   "cell_type": "code",
   "execution_count": null,
   "metadata": {},
   "outputs": [],
   "source": []
  }
 ],
 "metadata": {
  "kernelspec": {
   "display_name": "Python 3",
   "language": "python",
   "name": "python3"
  },
  "language_info": {
   "codemirror_mode": {
    "name": "ipython",
    "version": 3
   },
   "file_extension": ".py",
   "mimetype": "text/x-python",
   "name": "python",
   "nbconvert_exporter": "python",
   "pygments_lexer": "ipython3",
   "version": "3.6.6"
  }
 },
 "nbformat": 4,
 "nbformat_minor": 2
}
